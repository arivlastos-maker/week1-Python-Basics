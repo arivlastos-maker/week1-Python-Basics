{
  "nbformat": 4,
  "nbformat_minor": 0,
  "metadata": {
    "colab": {
      "provenance": []
    },
    "kernelspec": {
      "name": "python3",
      "display_name": "Python 3"
    },
    "language_info": {
      "name": "python"
    }
  },
  "cells": [
    {
      "cell_type": "markdown",
      "source": [
        "Extracting characters from a string"
      ],
      "metadata": {
        "id": "uGziDa09OBll"
      }
    },
    {
      "cell_type": "markdown",
      "source": [],
      "metadata": {
        "id": "CBv2TC8KOJAR"
      }
    },
    {
      "cell_type": "code",
      "source": [],
      "metadata": {
        "id": "lj6dG5MYOI6x"
      },
      "execution_count": null,
      "outputs": []
    },
    {
      "cell_type": "markdown",
      "source": [
        "Encoding"
      ],
      "metadata": {
        "id": "TaSvcooiOI07"
      }
    },
    {
      "cell_type": "code",
      "source": [
        "print(chr(126))\n",
        "print(chr(94))\n",
        "print(chr(37))\n"
      ],
      "metadata": {
        "id": "k5mckmwfOIvZ"
      },
      "execution_count": null,
      "outputs": []
    },
    {
      "cell_type": "markdown",
      "source": [
        "Changing variables"
      ],
      "metadata": {
        "id": "jdvTz18nZ0Nz"
      }
    },
    {
      "cell_type": "code",
      "source": [
        "name = \"Brienna\"\n",
        "\n",
        "# BEGIN (write your solution here)\n",
        "name = \"anneirB\"\n",
        "# END\n",
        "\n",
        "print(name)\n"
      ],
      "metadata": {
        "id": "Xa8FYGGDOIjS"
      },
      "execution_count": null,
      "outputs": []
    },
    {
      "cell_type": "markdown",
      "source": [
        "Errors when working with variables"
      ],
      "metadata": {
        "id": "aCsU0S6wOIdU"
      }
    },
    {
      "cell_type": "code",
      "source": [
        "family = \"Targaryen\"\n",
        "\n",
        "# BEGIN (write your solution here)\n",
        "pet = \"Dragon\"\n",
        "# END\n",
        "\n",
        "print(family)\n",
        "print(\" and \")\n",
        "print(pet)\n"
      ],
      "metadata": {
        "id": "JWfx30ciOIYA"
      },
      "execution_count": null,
      "outputs": []
    },
    {
      "cell_type": "markdown",
      "source": [
        "Expressions and definitions"
      ],
      "metadata": {
        "id": "_KvZlC_VOISO"
      }
    },
    {
      "cell_type": "code",
      "source": [
        "euros_count = 100\n",
        "\n",
        "# BEGIN (write your solution here)\n",
        "print(euros_count * 1.25)\n",
        "print(euros_count * 1.25 * 6.91)\n",
        "# END\n"
      ],
      "metadata": {
        "id": "ZYXrVqDqOINT"
      },
      "execution_count": null,
      "outputs": []
    },
    {
      "cell_type": "markdown",
      "source": [
        "Variables and concatenation"
      ],
      "metadata": {
        "id": "c7fjaSKBRTRi"
      }
    },
    {
      "cell_type": "code",
      "source": [
        "info = \"We couldn't verify your mother's maiden name.\"\n",
        "intro = \"Here is important information about your account security.\"\n",
        "\n",
        "first_name = \"Joffrey\"\n",
        "greeting = \"Hello\"\n",
        "\n",
        "# BEGIN (write your solution here)\n",
        "\n",
        "print(greeting +  \", \" + first_name + \"!\")\n",
        "print(intro)\n",
        "print(info)\n",
        "\n",
        "\n",
        "# END\n"
      ],
      "metadata": {
        "id": "GaGnlRuWRSz_"
      },
      "execution_count": null,
      "outputs": []
    },
    {
      "cell_type": "markdown",
      "source": [
        "Variable naming"
      ],
      "metadata": {
        "id": "4jtWnKjSRQ3p"
      }
    },
    {
      "cell_type": "code",
      "source": [
        "first_number = 20\n",
        "second_number = -100\n",
        "print(first_number * second_number)"
      ],
      "metadata": {
        "id": "XAtuGwQoOICD"
      },
      "execution_count": null,
      "outputs": []
    },
    {
      "cell_type": "markdown",
      "source": [],
      "metadata": {
        "id": "k9INAlUpOH8k"
      }
    },
    {
      "cell_type": "markdown",
      "source": [
        "Magic numbers"
      ],
      "metadata": {
        "id": "vA1DgSFCRIcB"
      }
    },
    {
      "cell_type": "code",
      "source": [
        "king = \"Rooms in King Balon's Castles:\"\n",
        "castles = 6\n",
        "rooms_per_castle = 17\n",
        "\n",
        "# BEGIN (write your solution here)\n",
        "print(king)\n",
        "print(castles * rooms_per_castle)\n",
        "# END\n"
      ],
      "metadata": {
        "colab": {
          "base_uri": "https://localhost:8080/"
        },
        "id": "bisoxEB2OH3i",
        "outputId": "c3691c14-2c7e-478e-fe43-c6192ea58205"
      },
      "execution_count": null,
      "outputs": [
        {
          "output_type": "stream",
          "name": "stdout",
          "text": [
            "Rooms in King Balon's Castles:\n",
            "102\n"
          ]
        }
      ]
    },
    {
      "cell_type": "markdown",
      "source": [
        "Constants"
      ],
      "metadata": {
        "id": "lPAhmjDnRBbE"
      }
    },
    {
      "cell_type": "code",
      "source": [
        "DRAGONS_BORN_COUNT = 3"
      ],
      "metadata": {
        "id": "2bhIRtOSOHsY"
      },
      "execution_count": null,
      "outputs": []
    },
    {
      "cell_type": "markdown",
      "source": [],
      "metadata": {
        "id": "OWwgbJOVOHma"
      }
    },
    {
      "cell_type": "code",
      "source": [
        "Interpolation"
      ],
      "metadata": {
        "id": "PyMHiR86OY-o"
      },
      "execution_count": null,
      "outputs": []
    },
    {
      "cell_type": "code",
      "source": [
        "stark = \"Arya\"\n",
        "\n",
        "# BEGIN (write your solution here)\n",
        "sentence = f'Do you want to eat, {stark}?'\n",
        "print(sentence)\n",
        "# END\n"
      ],
      "metadata": {
        "colab": {
          "base_uri": "https://localhost:8080/"
        },
        "id": "fAhSNcyKOGhg",
        "outputId": "741b1be3-e8b0-4c75-9aff-bad8833c225e"
      },
      "execution_count": null,
      "outputs": [
        {
          "output_type": "stream",
          "name": "stdout",
          "text": [
            "Do you want to eat, Arya?\n"
          ]
        }
      ]
    },
    {
      "cell_type": "code",
      "source": [
        "name = \"Na\\nharis\"\n",
        "\n",
        "# BEGIN (write your solution here)\n",
        "print(name[-1])\n",
        "# END\n"
      ],
      "metadata": {
        "colab": {
          "base_uri": "https://localhost:8080/"
        },
        "id": "TItZH-dhNzNT",
        "outputId": "ed58c082-03c9-4022-9893-32d317556b92"
      },
      "execution_count": null,
      "outputs": [
        {
          "output_type": "stream",
          "name": "stdout",
          "text": [
            "s\n"
          ]
        }
      ]
    },
    {
      "cell_type": "markdown",
      "source": [
        "Python Line Slices"
      ],
      "metadata": {
        "id": "F7PdAJiZN1lE"
      }
    },
    {
      "cell_type": "code",
      "execution_count": null,
      "metadata": {
        "colab": {
          "base_uri": "https://localhost:8080/"
        },
        "id": "NjnYANEOHf_Y",
        "outputId": "57a50034-7bf4-4867-e7b7-50fc7372d609"
      },
      "outputs": [
        {
          "output_type": "stream",
          "name": "stdout",
          "text": [
            "xle\n"
          ]
        }
      ],
      "source": [
        "value = \"Hexlet\"\n",
        "\n",
        "# BEGIN (write your solution here)\n",
        "print(value[2:5])\n",
        "# END\n"
      ]
    },
    {
      "cell_type": "markdown",
      "source": [
        "Multi-line strings"
      ],
      "metadata": {
        "id": "3025ycFXcRzP"
      }
    },
    {
      "cell_type": "code",
      "source": [
        "# BEGIN (write your solution here)\n",
        "text = '''Lannister, Targaryen, Baratheon, Stark, Tyrell...\n",
        "they're all just spokes on a wheel.\n",
        "This one's on top, then that one's on top, and on and on it spins,\n",
        "crushing those on the ground.'''\n",
        "print(text)"
      ],
      "metadata": {
        "colab": {
          "base_uri": "https://localhost:8080/"
        },
        "id": "1LEv7uFwcTmC",
        "outputId": "89b5529d-738a-41c3-ae71-82f0982357c4"
      },
      "execution_count": null,
      "outputs": [
        {
          "output_type": "stream",
          "name": "stdout",
          "text": [
            "Lannister, Targaryen, Baratheon, Stark, Tyrell...\n",
            "they're all just spokes on a wheel.\n",
            "This one's on top, then that one's on top, and on and on it spins,\n",
            "crushing those on the ground.\n"
          ]
        }
      ]
    },
    {
      "cell_type": "markdown",
      "source": [
        "Immutability of primitive types"
      ],
      "metadata": {
        "id": "zVWitWOkAySJ"
      }
    },
    {
      "cell_type": "code",
      "source": [
        "one = \"Naharis\"\n",
        "two = \"Mormont\"\n",
        "three = \"Sand\"\n",
        "\n",
        "# BEGIN (write your solution here)\n",
        "print(one[2] + two[1] + three[3] + two[4] + two[2])\n",
        "# END\n"
      ],
      "metadata": {
        "colab": {
          "base_uri": "https://localhost:8080/"
        },
        "id": "84eraYbOAxHO",
        "outputId": "827358aa-29f6-4c1e-ad81-ef631c84270f"
      },
      "execution_count": null,
      "outputs": [
        {
          "output_type": "stream",
          "name": "stdout",
          "text": [
            "hodor\n"
          ]
        }
      ]
    },
    {
      "cell_type": "markdown",
      "source": [
        "Explicit type conversion    "
      ],
      "metadata": {
        "id": "QJSLgUpCcWhh"
      }
    },
    {
      "cell_type": "code",
      "source": [
        "value = 2.9\n",
        "\n",
        "# BEGIN (write your solution here)\n",
        "print(str(value)[0] + ' times')\n",
        "# END\n"
      ],
      "metadata": {
        "id": "buIL3TuqCmtc"
      },
      "execution_count": null,
      "outputs": []
    },
    {
      "cell_type": "markdown",
      "source": [
        "Functions"
      ],
      "metadata": {
        "id": "MRKAFpeCCsao"
      }
    },
    {
      "cell_type": "code",
      "source": [
        "company1 = \"Apple\"\n",
        "company2 = \"Samsung\"\n",
        "\n",
        "# BEGIN (write your solution here)\n",
        "result = len(company1+company2)\n",
        "print(result)\n",
        "# END\n"
      ],
      "metadata": {
        "id": "7leHoEh_GNAk"
      },
      "execution_count": null,
      "outputs": []
    },
    {
      "cell_type": "markdown",
      "source": [
        "Fucntion call - expressions"
      ],
      "metadata": {
        "id": "r-gxSoUtGO6T"
      }
    },
    {
      "cell_type": "code",
      "source": [
        "text = \"Never forget what you are, for surely the world will not\"\n",
        "\n",
        "# BEGIN (write your solution here)\n",
        "print(f'First: {text[0]}')\n",
        "print(f'Last: {text[-1]}')\n",
        "# END\n"
      ],
      "metadata": {
        "id": "TYzol27SUeMH"
      },
      "execution_count": null,
      "outputs": []
    },
    {
      "cell_type": "markdown",
      "source": [
        "Determinacy"
      ],
      "metadata": {
        "id": "ZhlOVFQHUQak"
      }
    },
    {
      "cell_type": "code",
      "source": [
        "from random import random\n",
        "print(random())"
      ],
      "metadata": {
        "colab": {
          "base_uri": "https://localhost:8080/"
        },
        "id": "5IJn8wN2T0qk",
        "outputId": "60d51580-7688-4ec7-812e-aa70ad05a7aa"
      },
      "execution_count": null,
      "outputs": [
        {
          "output_type": "stream",
          "name": "stdout",
          "text": [
            "0.3862338876233963\n"
          ]
        }
      ]
    },
    {
      "cell_type": "markdown",
      "source": [
        "Standard library"
      ],
      "metadata": {
        "id": "OFc6DPuJUfRj"
      }
    },
    {
      "cell_type": "code",
      "source": [
        "motto = \"Family, Duty, Honor\"\n",
        "\n",
        "# BEGIN (write your solution here)\n",
        "print(type(motto))\n",
        "# END\n"
      ],
      "metadata": {
        "colab": {
          "base_uri": "https://localhost:8080/"
        },
        "id": "ojyLMYMsVT7M",
        "outputId": "088f12db-9827-416f-8de1-8dfb9a96f9b9"
      },
      "execution_count": null,
      "outputs": [
        {
          "output_type": "stream",
          "name": "stdout",
          "text": [
            "<class 'str'>\n"
          ]
        }
      ]
    },
    {
      "cell_type": "markdown",
      "source": [
        "Objects"
      ],
      "metadata": {
        "id": "GY3UW8iwVVSE"
      }
    },
    {
      "cell_type": "code",
      "source": [
        "text = \"a MIND needs Books as a Sword needS a WHETSTONE.\"\n",
        "\n",
        "# BEGIN (write your solution here)\n",
        "print(text.lower())\n",
        "# END\n"
      ],
      "metadata": {
        "colab": {
          "base_uri": "https://localhost:8080/"
        },
        "id": "7ImWsoc8WwBI",
        "outputId": "d94fad45-4a2f-4c16-cc4c-1e278cfcb9cd"
      },
      "execution_count": null,
      "outputs": [
        {
          "output_type": "stream",
          "name": "stdout",
          "text": [
            "a mind needs books as a sword needs a whetstone.\n"
          ]
        }
      ]
    },
    {
      "cell_type": "markdown",
      "source": [
        "Immutability"
      ],
      "metadata": {
        "id": "9bx9BtgDXLzS"
      }
    },
    {
      "cell_type": "code",
      "source": [
        "first_name = \"  Grigor   \\n\"\n",
        "\n",
        "# BEGIN (write your solution here)\n",
        "first_name = first_name.strip()\n",
        "print(first_name)\n",
        "# END\n"
      ],
      "metadata": {
        "id": "qYu3yq7mXbXD"
      },
      "execution_count": null,
      "outputs": []
    },
    {
      "cell_type": "markdown",
      "source": [],
      "metadata": {
        "id": "6agkJAPwXbz7"
      }
    },
    {
      "cell_type": "markdown",
      "source": [],
      "metadata": {
        "id": "LD0pkm0bcK5s"
      }
    },
    {
      "cell_type": "markdown",
      "source": [
        "Methods as expressions"
      ],
      "metadata": {
        "id": "ui_RU_7Ad27A"
      }
    },
    {
      "cell_type": "code",
      "source": [
        "text = \"Never forget what you are, for surely the world will not\"\n",
        "\n",
        "# BEGIN (write your solution here)\n",
        "print('Index Of N: ' + str(text.find('N')))\n",
        "print('Index Of ,: ' + str(text.find(',')))\n",
        "# END\n"
      ],
      "metadata": {
        "colab": {
          "base_uri": "https://localhost:8080/"
        },
        "id": "2szlXvMMcLM2",
        "outputId": "5c7e7581-ea49-49aa-d765-0e5de27730f5"
      },
      "execution_count": null,
      "outputs": [
        {
          "output_type": "stream",
          "name": "stdout",
          "text": [
            "Index Of n: 0\n"
          ]
        }
      ]
    },
    {
      "cell_type": "markdown",
      "source": [],
      "metadata": {
        "id": "zSfHCGjgd5Zk"
      }
    },
    {
      "cell_type": "code",
      "source": [
        "text = \"When \\t\\n you play a \\t\\n game of thrones you win or you die.\"\n",
        "\n",
        "# BEGIN (write your solution here)\n",
        "print(text[4:16].strip())"
      ],
      "metadata": {
        "colab": {
          "base_uri": "https://localhost:8080/"
        },
        "id": "x_d-BW_xeyde",
        "outputId": "c2f6dbcd-3d21-49b5-d1c3-cee371913df3"
      },
      "execution_count": null,
      "outputs": [
        {
          "output_type": "stream",
          "name": "stdout",
          "text": [
            "you play\n"
          ]
        }
      ]
    },
    {
      "cell_type": "markdown",
      "source": [
        "The call chain"
      ],
      "metadata": {
        "id": "LTOyoker3nnu"
      }
    },
    {
      "cell_type": "code",
      "source": [
        "text = \"When \\t\\n you play a \\t\\n game of thrones you win or you die.\"\n",
        "\n",
        "# BEGIN (write your solution here)\n",
        "print(len(text[4:15].strip()))\n",
        "# END\n"
      ],
      "metadata": {
        "colab": {
          "base_uri": "https://localhost:8080/"
        },
        "id": "XjV510-x3pUk",
        "outputId": "3e7d360c-9636-41c5-dd42-26d830da6705"
      },
      "execution_count": null,
      "outputs": [
        {
          "output_type": "stream",
          "name": "stdout",
          "text": [
            "7\n"
          ]
        }
      ]
    },
    {
      "cell_type": "markdown",
      "source": [
        "Return values"
      ],
      "metadata": {
        "id": "yVWxGQcdPcWJ"
      }
    },
    {
      "cell_type": "code",
      "source": [
        "# BEGIN (write your solution here)\n",
        "def say_hurray_three_times():\n",
        "    return 'hurray! hurray! hurray!'\n",
        "\n",
        "hurray = say_hurray_three_times\n",
        "print(hurray)\n",
        "# END\n"
      ],
      "metadata": {
        "id": "N72mMZ_TPe4c"
      },
      "execution_count": null,
      "outputs": []
    },
    {
      "cell_type": "markdown",
      "source": [
        "Function parameters"
      ],
      "metadata": {
        "id": "cuICQe8nPfom"
      }
    },
    {
      "cell_type": "code",
      "source": [
        "def truncate(text, length):\n",
        "    # BEGIN (write your solution here)\n",
        "    return text[0:length]+\"...\"\n",
        "    # END\n"
      ],
      "metadata": {
        "id": "Kp6Pape5WN1S"
      },
      "execution_count": null,
      "outputs": []
    },
    {
      "cell_type": "markdown",
      "source": [
        "Optional function parameters"
      ],
      "metadata": {
        "id": "4Fc5MbUlWOug"
      }
    },
    {
      "cell_type": "code",
      "source": [
        "def get_hidden_card(sixteen_digit_string, Num_asterisks=4):\n",
        "\n",
        "    asterisks = '*' * Num_asterisks\n",
        "    return asterisks + sixteen_digit_string[-4:]\n",
        "\n",
        "get_hidden_card('4305934213534312')"
      ],
      "metadata": {
        "colab": {
          "base_uri": "https://localhost:8080/",
          "height": 36
        },
        "id": "biuhjQ9lbE0c",
        "outputId": "53d23f50-8040-4e79-a452-f5aada755ea6"
      },
      "execution_count": null,
      "outputs": [
        {
          "output_type": "execute_result",
          "data": {
            "text/plain": [
              "'****4312'"
            ],
            "application/vnd.google.colaboratory.intrinsic+json": {
              "type": "string"
            }
          },
          "metadata": {},
          "execution_count": 21
        }
      ]
    },
    {
      "cell_type": "markdown",
      "source": [
        "Named arguments"
      ],
      "metadata": {
        "id": "TMm05i8hdMtv"
      }
    },
    {
      "cell_type": "code",
      "source": [
        "def trim_and_repeat(text, offset=0, repetitions=1):\n",
        "\n",
        "  return text[offset:]*repetitions\n",
        "\n",
        "trim_and_repeat('hello malaka',0,4)\n"
      ],
      "metadata": {
        "colab": {
          "base_uri": "https://localhost:8080/",
          "height": 36
        },
        "id": "FfndRX3Ce2K2",
        "outputId": "220c5399-6220-4ad5-bd03-97b902b482b8"
      },
      "execution_count": null,
      "outputs": [
        {
          "output_type": "execute_result",
          "data": {
            "text/plain": [
              "'hello malakahello malakahello malakahello malaka'"
            ],
            "application/vnd.google.colaboratory.intrinsic+json": {
              "type": "string"
            }
          },
          "metadata": {},
          "execution_count": 27
        }
      ]
    },
    {
      "cell_type": "markdown",
      "source": [
        "Type annotations"
      ],
      "metadata": {
        "id": "q-Cm6O1Hitc4"
      }
    },
    {
      "cell_type": "code",
      "source": [
        "def word_multiply(word: str , num_times_repeat: int) -> str:\n",
        "  return word * num_times_repeat\n",
        "\n",
        "word_multiply('Malakistiri',2)"
      ],
      "metadata": {
        "colab": {
          "base_uri": "https://localhost:8080/",
          "height": 36
        },
        "id": "9ko4YwBYit5t",
        "outputId": "6fdeb743-1787-41ea-80e8-11f847b832d2"
      },
      "execution_count": null,
      "outputs": [
        {
          "output_type": "execute_result",
          "data": {
            "text/plain": [
              "'MalakistiriMalakistiri'"
            ],
            "application/vnd.google.colaboratory.intrinsic+json": {
              "type": "string"
            }
          },
          "metadata": {},
          "execution_count": 34
        }
      ]
    },
    {
      "cell_type": "markdown",
      "source": [
        "Conditionals"
      ],
      "metadata": {
        "id": "-vkXVrpekYJ3"
      }
    },
    {
      "cell_type": "code",
      "source": [
        "def is_pensioner(age:int):\n",
        "  return age>=60\n",
        "\n",
        "is_pensioner(59)"
      ],
      "metadata": {
        "colab": {
          "base_uri": "https://localhost:8080/"
        },
        "id": "yDNpBBAUkYbN",
        "outputId": "418d804f-82ee-4741-a6f3-571cebdd3730"
      },
      "execution_count": null,
      "outputs": [
        {
          "output_type": "execute_result",
          "data": {
            "text/plain": [
              "False"
            ]
          },
          "metadata": {},
          "execution_count": 38
        }
      ]
    },
    {
      "cell_type": "markdown",
      "source": [
        "Combining operations and functions"
      ],
      "metadata": {
        "id": "TfZT3NyM5EgO"
      }
    },
    {
      "cell_type": "code",
      "source": [
        "def is_international_phone(number:str):\n",
        "    return number[0] == '+'\n",
        "\n",
        "is_international_phone('+34234023524')"
      ],
      "metadata": {
        "colab": {
          "base_uri": "https://localhost:8080/"
        },
        "id": "QDAYMEl95Yrs",
        "outputId": "b53b4ec6-d9fa-42da-e21b-658a0d7505d6"
      },
      "execution_count": null,
      "outputs": [
        {
          "output_type": "execute_result",
          "data": {
            "text/plain": [
              "True"
            ]
          },
          "metadata": {},
          "execution_count": 41
        }
      ]
    },
    {
      "cell_type": "markdown",
      "source": [
        "Logical operators"
      ],
      "metadata": {
        "id": "MTUIEs8f7Be7"
      }
    },
    {
      "cell_type": "code",
      "source": [
        "def is_leap_year(year:int):\n",
        "    return year % 400 == 0 or (year % 4 == 0 and year % 100 == 0)\n",
        "\n",
        "is_leap_year(40404)"
      ],
      "metadata": {
        "colab": {
          "base_uri": "https://localhost:8080/"
        },
        "id": "92LcBWGjASo2",
        "outputId": "1f4e0689-7cfc-4fb7-d256-6f3cea8f2804"
      },
      "execution_count": null,
      "outputs": [
        {
          "output_type": "execute_result",
          "data": {
            "text/plain": [
              "False"
            ]
          },
          "metadata": {},
          "execution_count": 54
        }
      ]
    },
    {
      "cell_type": "markdown",
      "source": [
        "Negation  "
      ],
      "metadata": {
        "id": "jAAywTannuBQ"
      }
    },
    {
      "cell_type": "code",
      "source": [
        "def is_palindrome(palindrome:str):\n",
        "    storage_string = palindrome.lower()\n",
        "\n",
        "    return storage_string == storage_string[::-1]\n",
        "\n",
        "is_palindrome('Kak')\n",
        "\n",
        "def is_not_palindrome(palindrome2):\n",
        "\n",
        "    return not is_palindrome(palindrome2)\n",
        "\n",
        "is_not_palindrome('Kaka')"
      ],
      "metadata": {
        "colab": {
          "base_uri": "https://localhost:8080/"
        },
        "id": "dS0gFWIeqsAx",
        "outputId": "960cfa89-b5d8-4c76-8805-ea239630a4fc"
      },
      "execution_count": null,
      "outputs": [
        {
          "output_type": "execute_result",
          "data": {
            "text/plain": [
              "True"
            ]
          },
          "metadata": {},
          "execution_count": 60
        }
      ]
    },
    {
      "cell_type": "markdown",
      "source": [
        "The results of logical expressions"
      ],
      "metadata": {
        "id": "Og5Sy0Qw27fm"
      }
    },
    {
      "cell_type": "code",
      "source": [
        "def string_or_not(test_string):\n",
        "    if isinstance(test_string, str):\n",
        "        Yes_or_No = 'yes'\n",
        "    else:\n",
        "        Yes_or_No = 'no'\n",
        "    return Yes_or_No\n",
        "\n",
        "print(string_or_not(40))\n",
        "print(string_or_not(\"hello\"))"
      ],
      "metadata": {
        "colab": {
          "base_uri": "https://localhost:8080/"
        },
        "id": "exX3TPpP_9RS",
        "outputId": "27f22b95-5c17-4022-ca2f-7bf6c352873d"
      },
      "execution_count": null,
      "outputs": [
        {
          "output_type": "stream",
          "name": "stdout",
          "text": [
            "no\n",
            "yes\n"
          ]
        }
      ]
    },
    {
      "cell_type": "markdown",
      "source": [],
      "metadata": {
        "id": "dBF1h_TmehWL"
      }
    },
    {
      "cell_type": "markdown",
      "source": [
        "Conditional constructions (if)"
      ],
      "metadata": {
        "id": "6ppm155qDANQ"
      }
    },
    {
      "cell_type": "code",
      "source": [
        "def guess_number(number:int):\n",
        "  if number == 42:\n",
        "    return('You win!')\n",
        "  return('You lose!')\n",
        "\n",
        "guess_number(1)"
      ],
      "metadata": {
        "id": "icAHLCKcD3Y1",
        "colab": {
          "base_uri": "https://localhost:8080/",
          "height": 36
        },
        "outputId": "95571427-6389-44b0-89dd-7afb3f84d4ee"
      },
      "execution_count": null,
      "outputs": [
        {
          "output_type": "execute_result",
          "data": {
            "text/plain": [
              "'You lose!'"
            ],
            "application/vnd.google.colaboratory.intrinsic+json": {
              "type": "string"
            }
          },
          "metadata": {},
          "execution_count": 3
        }
      ]
    },
    {
      "cell_type": "markdown",
      "source": [
        "Conditionals: else"
      ],
      "metadata": {
        "id": "E9tby1jZNmIZ"
      }
    },
    {
      "cell_type": "code",
      "source": [
        "def normalize_url(test_url:str):\n",
        "  if len(test_url) < 8:\n",
        "    return \"https://\" + test_url\n",
        "  prefix = test_url[0:8]\n",
        "  if prefix == 'https://':\n",
        "    return test_url\n",
        "  elif prefix[0:7] == \"http://\":\n",
        "    return test_url[:4] + \"s\" + test_url[4:]\n",
        "  else:\n",
        "    return \"https://\" + test_url\n",
        "\n",
        "print(normalize_url('http://google.com'))"
      ],
      "metadata": {
        "colab": {
          "base_uri": "https://localhost:8080/"
        },
        "id": "ZpSjr4YqNoEs",
        "outputId": "51618462-39dd-4b13-c99f-7c1549059d9b"
      },
      "execution_count": null,
      "outputs": [
        {
          "output_type": "stream",
          "name": "stdout",
          "text": [
            "https://google.com\n"
          ]
        }
      ]
    },
    {
      "cell_type": "markdown",
      "source": [
        "Construct else + if = elif"
      ],
      "metadata": {
        "id": "i_DyzEnaVlDT"
      }
    },
    {
      "cell_type": "code",
      "source": [
        "def who_is_this_house_to_starks(family_name:str):\n",
        "  if family_name == 'Karstark' or family_name =='Tully':\n",
        "    return 'friend'\n",
        "  elif family_name == 'Lannister' or family_name =='Frey':\n",
        "    return 'enemy'\n",
        "  else:\n",
        "    return 'neutral'\n",
        "\n",
        "print(who_is_this_house_to_starks('Tully'))"
      ],
      "metadata": {
        "colab": {
          "base_uri": "https://localhost:8080/"
        },
        "id": "OooGzN8qWFho",
        "outputId": "b8d291b2-ce83-4e4d-8d7d-ad3306407a8a"
      },
      "execution_count": null,
      "outputs": [
        {
          "output_type": "stream",
          "name": "stdout",
          "text": [
            "friend\n"
          ]
        }
      ]
    },
    {
      "cell_type": "markdown",
      "source": [],
      "metadata": {
        "id": "Z6rBoGeRbiWh"
      }
    },
    {
      "cell_type": "markdown",
      "source": [
        "ternary operators"
      ],
      "metadata": {
        "id": "uFXhWrEDdI9l"
      }
    },
    {
      "cell_type": "code",
      "source": [
        "def flip_flop(input_string:str):\n",
        "    return 'flop' if input_string == 'flip' else 'flip'\n",
        "\n",
        "print(flip_flop('flop'))"
      ],
      "metadata": {
        "colab": {
          "base_uri": "https://localhost:8080/"
        },
        "id": "Jd_CBNpqp1Yl",
        "outputId": "1cb6cbb4-2908-4653-9f8d-59282040ea1f"
      },
      "execution_count": null,
      "outputs": [
        {
          "output_type": "stream",
          "name": "stdout",
          "text": [
            "flip\n"
          ]
        }
      ]
    },
    {
      "cell_type": "markdown",
      "source": [
        "Match operator"
      ],
      "metadata": {
        "id": "3Izul3-bqEk-"
      }
    },
    {
      "cell_type": "code",
      "source": [
        "def get_number_explanation(number:int):\n",
        "    match number:\n",
        "        case 666:\n",
        "            return 'devil number'\n",
        "        case 42:\n",
        "            return 'answer for everything'\n",
        "        case 7:\n",
        "            return 'prime number'\n",
        "        case _:\n",
        "            return 'just a number'\n",
        "\n",
        "print(get_number_explanation(666))"
      ],
      "metadata": {
        "colab": {
          "base_uri": "https://localhost:8080/"
        },
        "id": "Qw90lDafqGdU",
        "outputId": "604bf06f-090a-48f9-8439-3cf8db67b807"
      },
      "execution_count": null,
      "outputs": [
        {
          "output_type": "stream",
          "name": "stdout",
          "text": [
            "just a number\n"
          ]
        }
      ]
    },
    {
      "cell_type": "markdown",
      "source": [
        "While loop"
      ],
      "metadata": {
        "id": "sxkaUWIArgHy"
      }
    },
    {
      "cell_type": "code",
      "source": [
        "def print_numbers(number:int):\n",
        "  i=number\n",
        "  while i>=1:\n",
        "    print(i)\n",
        "    i-=1\n",
        "\n",
        "print_numbers(3)\n",
        "print('finished!')"
      ],
      "metadata": {
        "colab": {
          "base_uri": "https://localhost:8080/"
        },
        "id": "6y0dX9c9rhlF",
        "outputId": "35620223-3370-4e8e-dbe2-562fbce1b8e2"
      },
      "execution_count": null,
      "outputs": [
        {
          "output_type": "stream",
          "name": "stdout",
          "text": [
            "3\n",
            "2\n",
            "1\n",
            "finished!\n"
          ]
        }
      ]
    },
    {
      "cell_type": "markdown",
      "source": [
        "Data aggregation (numbers)"
      ],
      "metadata": {
        "id": "tKQdU_hStvVf"
      }
    },
    {
      "cell_type": "code",
      "source": [
        "def multiply_numbers_from_range(lower_bound, upper_bound):\n",
        "    i = lower_bound\n",
        "    answer = 1\n",
        "    while i <= upper_bound:\n",
        "        answer = answer * i\n",
        "        i = i + 1\n",
        "\n",
        "    return answer\n",
        "\n",
        "multiply_numbers_from_range(1,1)"
      ],
      "metadata": {
        "id": "ljD_t_uFvxKN",
        "colab": {
          "base_uri": "https://localhost:8080/"
        },
        "outputId": "ce359ec9-bd55-498f-d6cd-1e4fb97b8d70"
      },
      "execution_count": 37,
      "outputs": [
        {
          "output_type": "execute_result",
          "data": {
            "text/plain": [
              "1"
            ]
          },
          "metadata": {},
          "execution_count": 37
        }
      ]
    },
    {
      "cell_type": "markdown",
      "source": [
        "Aggregating string"
      ],
      "metadata": {
        "id": "OuR7AByA_t-Y"
      }
    },
    {
      "cell_type": "code",
      "source": [
        "def join_numbers_from_range(lower_bound, upper_bound):\n",
        "    answer:str = ''\n",
        "    i = lower_bound\n",
        "    while i <= upper_bound:\n",
        "        answer = answer + str(i)\n",
        "        i = i + 1\n",
        "    return answer\n",
        "\n",
        "join_numbers_from_range(1,1)"
      ],
      "metadata": {
        "colab": {
          "base_uri": "https://localhost:8080/",
          "height": 36
        },
        "id": "kAC9PDH8_v3F",
        "outputId": "7d04cb33-0eeb-468c-d131-8aaa84292ccd"
      },
      "execution_count": 48,
      "outputs": [
        {
          "output_type": "execute_result",
          "data": {
            "text/plain": [
              "'1'"
            ],
            "application/vnd.google.colaboratory.intrinsic+json": {
              "type": "string"
            }
          },
          "metadata": {},
          "execution_count": 48
        }
      ]
    },
    {
      "cell_type": "markdown",
      "source": [
        "Traversing string"
      ],
      "metadata": {
        "id": "c8YIX8vSBODv"
      }
    },
    {
      "cell_type": "code",
      "source": [
        "def print_reversed_word_by_symbol(word:str):\n",
        "    reverse_word = word[::-1]\n",
        "    i = 0\n",
        "    while i < len(reverse_word):\n",
        "        print(reverse_word[i])\n",
        "        i = i + 1\n",
        "\n",
        "print_reversed_word_by_symbol('Hexlet')"
      ],
      "metadata": {
        "colab": {
          "base_uri": "https://localhost:8080/"
        },
        "id": "Qqcl9jIpBPu0",
        "outputId": "724843bd-9466-4826-8f44-9187b1619d1c"
      },
      "execution_count": 63,
      "outputs": [
        {
          "output_type": "stream",
          "name": "stdout",
          "text": [
            "t\n",
            "e\n",
            "l\n",
            "x\n",
            "e\n",
            "H\n"
          ]
        }
      ]
    },
    {
      "cell_type": "markdown",
      "source": [
        "Conditions inside loops"
      ],
      "metadata": {
        "id": "2o_YmtTfKdaI"
      }
    },
    {
      "cell_type": "code",
      "source": [
        "def count_chars(string, char):\n",
        "    count = 0\n",
        "    index = 0\n",
        "\n",
        "    while index < len(string):\n",
        "        if string[index].lower() == char.lower():\n",
        "            count += 1\n",
        "        index += 1\n",
        "\n",
        "    return(count)\n",
        "\n",
        "count_chars('maLAka', 'a')"
      ],
      "metadata": {
        "colab": {
          "base_uri": "https://localhost:8080/"
        },
        "id": "RSgTgVcMKdnz",
        "outputId": "99039068-fc93-4569-a29e-9ad863249371"
      },
      "execution_count": 70,
      "outputs": [
        {
          "output_type": "execute_result",
          "data": {
            "text/plain": [
              "3"
            ]
          },
          "metadata": {},
          "execution_count": 70
        }
      ]
    },
    {
      "cell_type": "markdown",
      "source": [
        "Using loops"
      ],
      "metadata": {
        "id": "4H7AvEfPNsgK"
      }
    },
    {
      "cell_type": "code",
      "source": [
        "def my_substr(stringInput, length_to_extract):\n",
        "    index = 0\n",
        "    output_string = ''\n",
        "    if len(stringInput) < length_to_extract:\n",
        "        index = len(stringInput)\n",
        "        return stringInput\n",
        "\n",
        "    while index < length_to_extract:\n",
        "        output_string = output_string + stringInput[index]\n",
        "        index += 1\n",
        "    return output_string\n",
        "my_substr('test', 4)"
      ],
      "metadata": {
        "colab": {
          "base_uri": "https://localhost:8080/",
          "height": 36
        },
        "id": "RJkqnpAJNujA",
        "outputId": "a9514861-b877-402c-bd73-f2d39759a978"
      },
      "execution_count": 88,
      "outputs": [
        {
          "output_type": "execute_result",
          "data": {
            "text/plain": [
              "'test'"
            ],
            "application/vnd.google.colaboratory.intrinsic+json": {
              "type": "string"
            }
          },
          "metadata": {},
          "execution_count": 88
        }
      ]
    },
    {
      "cell_type": "markdown",
      "source": [
        "Edge cases"
      ],
      "metadata": {
        "id": "he7_-ZFlQ4P0"
      }
    },
    {
      "cell_type": "code",
      "source": [
        "def is_arguments_for_substr_correct(string, start, length):\n",
        "  extraction = string[start-1:start-1+length]\n",
        "\n",
        "  if start < 0:\n",
        "    return False\n",
        "  elif start > len(string):\n",
        "    return False\n",
        "  elif length < 0:\n",
        "    return False\n",
        "  elif start + length > len(string):\n",
        "    return False\n",
        "  else:\n",
        "    return True\n",
        "\n",
        "is_arguments_for_substr_correct('test', 1, -1)"
      ],
      "metadata": {
        "colab": {
          "base_uri": "https://localhost:8080/"
        },
        "id": "o4LxHiwtQ3Xc",
        "outputId": "8cfae8c8-8c36-4195-8dcc-3bce7ff7bef6"
      },
      "execution_count": 4,
      "outputs": [
        {
          "output_type": "execute_result",
          "data": {
            "text/plain": [
              "False"
            ]
          },
          "metadata": {},
          "execution_count": 4
        }
      ]
    },
    {
      "cell_type": "markdown",
      "source": [
        "Syntactic sugar"
      ],
      "metadata": {
        "id": "NW8Qu3MjjpuE"
      }
    },
    {
      "cell_type": "code",
      "source": [
        "def filter_string(string, char):\n",
        "  index = 0\n",
        "  new_string = ''\n",
        "  while index < len(string):\n",
        "    if string[index] == char:\n",
        "      new_string = new_string + ' '\n",
        "    else:\n",
        "      new_string = new_string + string[index]\n",
        "    index += 1\n",
        "  return new_string\n",
        "\n",
        "filter_string('malaka', 'm')"
      ],
      "metadata": {
        "colab": {
          "base_uri": "https://localhost:8080/",
          "height": 36
        },
        "id": "9RV_DlTYkDq9",
        "outputId": "c64c0373-2e71-4d00-ffa5-c8421e8cfa4e"
      },
      "execution_count": 10,
      "outputs": [
        {
          "output_type": "execute_result",
          "data": {
            "text/plain": [
              "' alaka'"
            ],
            "application/vnd.google.colaboratory.intrinsic+json": {
              "type": "string"
            }
          },
          "metadata": {},
          "execution_count": 10
        }
      ]
    },
    {
      "cell_type": "markdown",
      "source": [
        "Return from cycles"
      ],
      "metadata": {
        "id": "-kEXAHdSolwl"
      }
    },
    {
      "cell_type": "code",
      "source": [
        "def is_contains_char(string, char):\n",
        "  index = 0\n",
        "  while index < len(string):\n",
        "    if string[index] == char:\n",
        "      return True\n",
        "    index += 1\n",
        "  return False\n",
        "\n",
        "is_contains_char('Malakistiri', 'M')"
      ],
      "metadata": {
        "colab": {
          "base_uri": "https://localhost:8080/"
        },
        "id": "zvSFuL7yozkm",
        "outputId": "d1640c91-489a-48f6-c728-f6249e5d4645"
      },
      "execution_count": 13,
      "outputs": [
        {
          "output_type": "execute_result",
          "data": {
            "text/plain": [
              "True"
            ]
          },
          "metadata": {},
          "execution_count": 13
        }
      ]
    },
    {
      "cell_type": "markdown",
      "source": [
        "Cycle For"
      ],
      "metadata": {
        "id": "2jIkfSOup0DR"
      }
    },
    {
      "cell_type": "code",
      "source": [
        "def filter_string(string, char):\n",
        "    result = ''\n",
        "    for current_char in string:\n",
        "        if current_char.lower() == char or current_char.upper() == char:\n",
        "            result = result + ' '\n",
        "        else:\n",
        "            result = result + current_char\n",
        "    return(result)\n",
        "\n",
        "filter_string('malaka', 'a')"
      ],
      "metadata": {
        "colab": {
          "base_uri": "https://localhost:8080/",
          "height": 36
        },
        "id": "0SVJ1y83w-bt",
        "outputId": "2cb06556-5c05-4f59-cb72-990616da41b2"
      },
      "execution_count": 18,
      "outputs": [
        {
          "output_type": "execute_result",
          "data": {
            "text/plain": [
              "'m l k '"
            ],
            "application/vnd.google.colaboratory.intrinsic+json": {
              "type": "string"
            }
          },
          "metadata": {},
          "execution_count": 18
        }
      ]
    },
    {
      "cell_type": "markdown",
      "source": [
        "For loop and Range function"
      ],
      "metadata": {
        "id": "DY4Jnvprz_7e"
      }
    },
    {
      "cell_type": "code",
      "source": [
        "def print_table_of_squares(start, end):\n",
        "\n",
        "    for i in range(start,end+1):\n",
        "        print('square of ' + str(i) + ' is ' + str(i * i))\n",
        "\n",
        "print_table_of_squares(1,3)"
      ],
      "metadata": {
        "colab": {
          "base_uri": "https://localhost:8080/"
        },
        "id": "h0fN4CSC0Dkb",
        "outputId": "807ed9d7-c72c-472a-ebb0-93f0418f3990"
      },
      "execution_count": 22,
      "outputs": [
        {
          "output_type": "stream",
          "name": "stdout",
          "text": [
            "square of 1 is 1\n",
            "square of 2 is 4\n",
            "square of 3 is 9\n"
          ]
        }
      ]
    }
  ]
}